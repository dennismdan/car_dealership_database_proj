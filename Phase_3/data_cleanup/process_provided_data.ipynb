{
 "cells": [
  {
   "cell_type": "code",
   "execution_count": 94,
   "id": "0e9a952d",
   "metadata": {},
   "outputs": [],
   "source": [
    "import pyodbc\n",
    "import pandas as pd\n",
    "import os\n",
    "import sqlalchemy as sa\n",
    "import urllib"
   ]
  },
  {
   "cell_type": "code",
   "execution_count": 84,
   "id": "80315274",
   "metadata": {},
   "outputs": [],
   "source": [
    "root = os.path.abspath(r\"C:\\Users\\denni\\temp_school\\data\")\n",
    "parts_path = os.path.join(root,\"parts.tsv\")\n",
    "business_path = os.path.join(root,\"business.tsv\")\n",
    "person_path = os.path.join(root,\"person.tsv\")\n",
    "repairs_path = os.path.join(root,\"repairs.tsv\")\n",
    "users_path = os.path.join(root,\"users.tsv\")\n",
    "vehicles_path = os.path.join(root,\"vehicles.tsv\")"
   ]
  },
  {
   "cell_type": "markdown",
   "id": "496eae86",
   "metadata": {},
   "source": [
    "## Utility Functions "
   ]
  },
  {
   "cell_type": "code",
   "execution_count": 85,
   "id": "e240d081",
   "metadata": {},
   "outputs": [],
   "source": [
    "def compose_pyodbc_connection():\n",
    "    SERVER = os.getenv(\"DB_SERVER\", \"MAORYZEN7\\SQLEXPRESS\")\n",
    "    connection_string = 'Driver={SQL Server};Server=%s;Database=CS6400;Trusted_Connection=yes;' % ( SERVER )\n",
    "    \n",
    "    if os.getenv(\"PYODBC_AUTH\")==\"True\":\n",
    "        usr = os.getenv(\"PYODBC_USER\")\n",
    "        pw = os.getenv(\"PYODBC_PW\")\n",
    "        connection_string+='uid=%s;pwd=%s;'%(usr,pw)\n",
    "\n",
    "    return connection_string\n",
    "\n",
    "\n",
    "def insert_row(query:str,row):\n",
    "    '''\n",
    "    :param query:\n",
    "    :return:\n",
    "    '''\n",
    "    connection_str = compose_pyodbc_connection()\n",
    "    conn = pyodbc.connect(connection_str)\n",
    "\n",
    "    cursor = conn.cursor()\n",
    "    cursor.execute(query,row)\n",
    "    conn.commit()\n",
    "    cursor.close()\n",
    "\n",
    "    return\n",
    "\n",
    "def gen_query_add_row(table_name:str,row:tuple)->str:\n",
    "    colQuery = f\"SELECT COLUMN_NAME FROM INFORMATION_SCHEMA.COLUMNS WHERE TABLE_NAME='{table_name}';\"\n",
    "\n",
    "    colnames,_ = run_query(colQuery)\n",
    "\n",
    "    colnames = ','.join([col[0] for col in colnames])\n",
    "    row_len = len(row)\n",
    "\n",
    "    row =\",\".join([\"?\" for i in range(row_len)])\n",
    "    query = f\"INSERT INTO {table_name}({colnames}) VALUES ({row}) \"\n",
    "    return query\n",
    "\n",
    "\n",
    "def load_cleaned_data_to_db(table_name:str, df:pd.DataFrame):\n",
    "    try: \n",
    "        for index, row in df.iterrows():\n",
    "            query = gen_query_add_row(table_name,row)\n",
    "            insert_row(query,row)\n",
    "    except: \n",
    "        raise "
   ]
  },
  {
   "cell_type": "markdown",
   "id": "330e675e",
   "metadata": {},
   "source": [
    "###  Current Schema to Provided Data Mapping \n",
    "**Our Schema_______________Provided Data**\n",
    "```\n",
    "Vehicle       -----   vehicle ('VIN', 'year', 'manufacturer_name', \n",
    "                               'model', 'description', 'invoice_price', \n",
    "                               'added_by', 'date_added', 'vehicle_type') \n",
    "Car           -----   vehicle (VIN,roof_type,back_seat_count) \n",
    "Convertible   -----   vehicle (VIN,roof_type, ) \n",
    "SUV           -----   vehicle (VIN,drive_train_type, num_cupholders)   \n",
    "Truck         -----   vehicle (VIN,capacity, cover_type, num_rear_axles)   \n",
    "VanMinivan    -----   vehicle (VIN,driver_side_door) \n",
    "\n",
    "Color         -----   vehicle (VIN,Colors)  \n",
    "Manufacturer  -----   vehicle (manufacturer_name)  \n",
    "Sale          -----   vehicle (VIN,'sold_by', 'sale_date', 'sold_price', 'customer')\n",
    "\n",
    "Customer      -----   business/persons \n",
    "Business      -----   business\n",
    "Person        -----   person\n",
    "\n",
    "EmployeeUser  -----   users\n",
    "Part          -----   parts\n",
    "Repair        -----   repairs\n",
    "\n",
    "```"
   ]
  },
  {
   "cell_type": "markdown",
   "id": "c28f894f",
   "metadata": {},
   "source": [
    "# TODOs: \n",
    "\n",
    "1. Review provided data (content, types, cols) \n",
    "2. Breakdown input data to match our current schema\n",
    "3. Correct / Map col names to match schema for each table\n",
    "4. Correct datatypes to match schema \n",
    "5. Load Corrected tables to Database "
   ]
  },
  {
   "cell_type": "markdown",
   "id": "e80683b2",
   "metadata": {},
   "source": [
    "# Vehicles Data\n",
    "\n",
    "<hr style=\"border:1px solid gray\"> </hr>\n",
    "**Our Schema_______________Provided Data**\n",
    "\n",
    "```\n",
    "Vehicle       -----   vehicle ('VIN', 'year', 'manufacturer_name', \n",
    "                               'model', 'description', 'invoice_price', \n",
    "                               'added_by', 'date_added', 'vehicle_type') \n",
    "Car           -----   vehicle (VIN,roof_type,back_seat_count) \n",
    "Convertible   -----   vehicle (VIN,roof_type, ) \n",
    "SUV           -----   vehicle (VIN,drive_train_type, num_cupholders)   \n",
    "Truck         -----   vehicle (VIN,capacity, cover_type, num_rear_axles)   \n",
    "VanMinivan    -----   vehicle (VIN,driver_side_door) \n",
    "\n",
    "Color         -----   vehicle (VIN,Colors)  \n",
    "Manufacturer  -----   vehicle (manufacturer_name)  \n",
    "Sale          -----   vehicle (VIN,'sold_by', 'sale_date', 'sold_price', 'customer')\n",
    "```"
   ]
  },
  {
   "cell_type": "markdown",
   "id": "2b1c723f",
   "metadata": {},
   "source": [
    "### 01 Vehicle - Review provided data (content, types, cols)"
   ]
  },
  {
   "cell_type": "code",
   "execution_count": 86,
   "id": "c7fe393b",
   "metadata": {},
   "outputs": [
    {
     "data": {
      "text/plain": [
       "VIN                   object\n",
       "year                   int64\n",
       "manufacturer_name     object\n",
       "model                 object\n",
       "Colors                object\n",
       "description           object\n",
       "invoice_price        float64\n",
       "added_by              object\n",
       "date_added            object\n",
       "vehicle_type          object\n",
       "number_doors         float64\n",
       "back_seat_count      float64\n",
       "roof_type             object\n",
       "num_cupholders       float64\n",
       "drive_train_type      object\n",
       "num_rear_axles       float64\n",
       "cover_type            object\n",
       "capacity             float64\n",
       "driver_side_door     float64\n",
       "sold_by               object\n",
       "sale_date             object\n",
       "sold_price           float64\n",
       "customer              object\n",
       "dtype: object"
      ]
     },
     "execution_count": 86,
     "metadata": {},
     "output_type": "execute_result"
    }
   ],
   "source": [
    "vehicles = pd.read_csv(vehicles_path, sep = \"\\t\")\n",
    "vehicles.dtypes"
   ]
  },
  {
   "cell_type": "code",
   "execution_count": 87,
   "id": "edaecf33",
   "metadata": {},
   "outputs": [
    {
     "data": {
      "text/html": [
       "<div>\n",
       "<style scoped>\n",
       "    .dataframe tbody tr th:only-of-type {\n",
       "        vertical-align: middle;\n",
       "    }\n",
       "\n",
       "    .dataframe tbody tr th {\n",
       "        vertical-align: top;\n",
       "    }\n",
       "\n",
       "    .dataframe thead th {\n",
       "        text-align: right;\n",
       "    }\n",
       "</style>\n",
       "<table border=\"1\" class=\"dataframe\">\n",
       "  <thead>\n",
       "    <tr style=\"text-align: right;\">\n",
       "      <th></th>\n",
       "      <th>VIN</th>\n",
       "      <th>year</th>\n",
       "      <th>manufacturer_name</th>\n",
       "      <th>model</th>\n",
       "      <th>Colors</th>\n",
       "      <th>description</th>\n",
       "      <th>invoice_price</th>\n",
       "      <th>added_by</th>\n",
       "      <th>date_added</th>\n",
       "      <th>vehicle_type</th>\n",
       "      <th>...</th>\n",
       "      <th>num_cupholders</th>\n",
       "      <th>drive_train_type</th>\n",
       "      <th>num_rear_axles</th>\n",
       "      <th>cover_type</th>\n",
       "      <th>capacity</th>\n",
       "      <th>driver_side_door</th>\n",
       "      <th>sold_by</th>\n",
       "      <th>sale_date</th>\n",
       "      <th>sold_price</th>\n",
       "      <th>customer</th>\n",
       "    </tr>\n",
       "  </thead>\n",
       "  <tbody>\n",
       "    <tr>\n",
       "      <th>0</th>\n",
       "      <td>00AIVKIDO01487633</td>\n",
       "      <td>2006</td>\n",
       "      <td>Lincoln</td>\n",
       "      <td>LS</td>\n",
       "      <td>Claret</td>\n",
       "      <td>NaN</td>\n",
       "      <td>5315.01</td>\n",
       "      <td>user09</td>\n",
       "      <td>7/17/2020</td>\n",
       "      <td>Van</td>\n",
       "      <td>...</td>\n",
       "      <td>NaN</td>\n",
       "      <td>NaN</td>\n",
       "      <td>NaN</td>\n",
       "      <td>NaN</td>\n",
       "      <td>NaN</td>\n",
       "      <td>1.0</td>\n",
       "      <td>user19</td>\n",
       "      <td>12/13/2020</td>\n",
       "      <td>6307.12</td>\n",
       "      <td>C0199518923</td>\n",
       "    </tr>\n",
       "    <tr>\n",
       "      <th>1</th>\n",
       "      <td>01WR7E2ZMCD216522</td>\n",
       "      <td>2006</td>\n",
       "      <td>Mitsubishi</td>\n",
       "      <td>FE145</td>\n",
       "      <td>Green</td>\n",
       "      <td>automatic safety features;</td>\n",
       "      <td>2572.00</td>\n",
       "      <td>user18</td>\n",
       "      <td>2/9/2021</td>\n",
       "      <td>SUV</td>\n",
       "      <td>...</td>\n",
       "      <td>1.0</td>\n",
       "      <td>RWD</td>\n",
       "      <td>NaN</td>\n",
       "      <td>NaN</td>\n",
       "      <td>NaN</td>\n",
       "      <td>NaN</td>\n",
       "      <td>user10</td>\n",
       "      <td>6/28/2021</td>\n",
       "      <td>3761.09</td>\n",
       "      <td>A9383285395</td>\n",
       "    </tr>\n",
       "    <tr>\n",
       "      <th>2</th>\n",
       "      <td>06XZOKN8UAY309163</td>\n",
       "      <td>2004</td>\n",
       "      <td>SAAB</td>\n",
       "      <td>9-5</td>\n",
       "      <td>Metallic</td>\n",
       "      <td>NaN</td>\n",
       "      <td>1177.06</td>\n",
       "      <td>user25</td>\n",
       "      <td>2/13/2020</td>\n",
       "      <td>SUV</td>\n",
       "      <td>...</td>\n",
       "      <td>3.0</td>\n",
       "      <td>FWD</td>\n",
       "      <td>NaN</td>\n",
       "      <td>NaN</td>\n",
       "      <td>NaN</td>\n",
       "      <td>NaN</td>\n",
       "      <td>roland</td>\n",
       "      <td>3/7/2020</td>\n",
       "      <td>1263.15</td>\n",
       "      <td>B7932999712</td>\n",
       "    </tr>\n",
       "    <tr>\n",
       "      <th>3</th>\n",
       "      <td>073HOEWCHAF741925</td>\n",
       "      <td>2013</td>\n",
       "      <td>INFINITI</td>\n",
       "      <td>QX56</td>\n",
       "      <td>Black,Cream,Red</td>\n",
       "      <td>NaN</td>\n",
       "      <td>4488.90</td>\n",
       "      <td>user18</td>\n",
       "      <td>2/20/2021</td>\n",
       "      <td>Car</td>\n",
       "      <td>...</td>\n",
       "      <td>NaN</td>\n",
       "      <td>NaN</td>\n",
       "      <td>NaN</td>\n",
       "      <td>NaN</td>\n",
       "      <td>NaN</td>\n",
       "      <td>NaN</td>\n",
       "      <td>user10</td>\n",
       "      <td>3/6/2021</td>\n",
       "      <td>6395.17</td>\n",
       "      <td>C6390913308</td>\n",
       "    </tr>\n",
       "    <tr>\n",
       "      <th>4</th>\n",
       "      <td>07TSE0YYIZF380247</td>\n",
       "      <td>2003</td>\n",
       "      <td>Honda</td>\n",
       "      <td>CR125R</td>\n",
       "      <td>White</td>\n",
       "      <td>good gear; disc brake; disc brake;</td>\n",
       "      <td>2262.77</td>\n",
       "      <td>user20</td>\n",
       "      <td>4/11/2020</td>\n",
       "      <td>Van</td>\n",
       "      <td>...</td>\n",
       "      <td>NaN</td>\n",
       "      <td>NaN</td>\n",
       "      <td>NaN</td>\n",
       "      <td>NaN</td>\n",
       "      <td>NaN</td>\n",
       "      <td>1.0</td>\n",
       "      <td>user04</td>\n",
       "      <td>10/27/2020</td>\n",
       "      <td>2271.02</td>\n",
       "      <td>D8356291718</td>\n",
       "    </tr>\n",
       "  </tbody>\n",
       "</table>\n",
       "<p>5 rows × 23 columns</p>\n",
       "</div>"
      ],
      "text/plain": [
       "                 VIN  year manufacturer_name   model           Colors  \\\n",
       "0  00AIVKIDO01487633  2006           Lincoln      LS           Claret   \n",
       "1  01WR7E2ZMCD216522  2006        Mitsubishi   FE145            Green   \n",
       "2  06XZOKN8UAY309163  2004              SAAB     9-5         Metallic   \n",
       "3  073HOEWCHAF741925  2013          INFINITI    QX56  Black,Cream,Red   \n",
       "4  07TSE0YYIZF380247  2003             Honda  CR125R            White   \n",
       "\n",
       "                           description  invoice_price added_by date_added  \\\n",
       "0                                  NaN        5315.01   user09  7/17/2020   \n",
       "1          automatic safety features;         2572.00   user18   2/9/2021   \n",
       "2                                  NaN        1177.06   user25  2/13/2020   \n",
       "3                                  NaN        4488.90   user18  2/20/2021   \n",
       "4  good gear; disc brake; disc brake;         2262.77   user20  4/11/2020   \n",
       "\n",
       "  vehicle_type  ...  num_cupholders  drive_train_type num_rear_axles  \\\n",
       "0          Van  ...             NaN               NaN            NaN   \n",
       "1          SUV  ...             1.0               RWD            NaN   \n",
       "2          SUV  ...             3.0               FWD            NaN   \n",
       "3          Car  ...             NaN               NaN            NaN   \n",
       "4          Van  ...             NaN               NaN            NaN   \n",
       "\n",
       "   cover_type capacity  driver_side_door sold_by   sale_date  sold_price  \\\n",
       "0         NaN      NaN               1.0  user19  12/13/2020     6307.12   \n",
       "1         NaN      NaN               NaN  user10   6/28/2021     3761.09   \n",
       "2         NaN      NaN               NaN  roland    3/7/2020     1263.15   \n",
       "3         NaN      NaN               NaN  user10    3/6/2021     6395.17   \n",
       "4         NaN      NaN               1.0  user04  10/27/2020     2271.02   \n",
       "\n",
       "      customer  \n",
       "0  C0199518923  \n",
       "1  A9383285395  \n",
       "2  B7932999712  \n",
       "3  C6390913308  \n",
       "4  D8356291718  \n",
       "\n",
       "[5 rows x 23 columns]"
      ]
     },
     "execution_count": 87,
     "metadata": {},
     "output_type": "execute_result"
    }
   ],
   "source": [
    "vehicles.head()"
   ]
  },
  {
   "cell_type": "markdown",
   "id": "c22fbb17",
   "metadata": {},
   "source": [
    "# Users Data\n",
    "\n",
    "<hr style=\"border:1px solid gray\"> </hr>\n",
    "\n",
    "**Our Schema_______________Provided Data**\n",
    "\n",
    "```\n",
    "EmployeeUser  -----   users\n",
    "```"
   ]
  },
  {
   "cell_type": "markdown",
   "id": "0327bd26",
   "metadata": {},
   "source": [
    "### 01 Users - Review provided data (content, types, cols)"
   ]
  },
  {
   "cell_type": "code",
   "execution_count": 88,
   "id": "02265a67",
   "metadata": {},
   "outputs": [
    {
     "data": {
      "text/plain": [
       "username    object\n",
       "password    object\n",
       "u_f_name    object\n",
       "u_l_name    object\n",
       "roles       object\n",
       "dtype: object"
      ]
     },
     "execution_count": 88,
     "metadata": {},
     "output_type": "execute_result"
    }
   ],
   "source": [
    "users= pd.read_csv(users_path, sep = \"\\t\")\n",
    "users.dtypes"
   ]
  },
  {
   "cell_type": "markdown",
   "id": "5fe53639",
   "metadata": {},
   "source": [
    "### 02 Users - Breakdown input data to match schema"
   ]
  },
  {
   "cell_type": "code",
   "execution_count": 89,
   "id": "0b42da6f",
   "metadata": {},
   "outputs": [],
   "source": [
    "# users data maps directly to EmployeeUser\n",
    "# No additional work here"
   ]
  },
  {
   "cell_type": "markdown",
   "id": "bc294887",
   "metadata": {},
   "source": [
    "### 03 Users - Correct col names to match schema for each table"
   ]
  },
  {
   "cell_type": "code",
   "execution_count": 90,
   "id": "e2cff7fa",
   "metadata": {},
   "outputs": [
    {
     "data": {
      "text/plain": [
       "Username      object\n",
       "Password      object\n",
       "First_name    object\n",
       "Last_name     object\n",
       "Job_type      object\n",
       "dtype: object"
      ]
     },
     "execution_count": 90,
     "metadata": {},
     "output_type": "execute_result"
    }
   ],
   "source": [
    "users.rename(columns={\"username\": \"Username\", \n",
    "                      \"password\": \"Password\",\n",
    "                      \"u_f_name\": \"First_name\",\n",
    "                      \"u_l_name\": \"Last_name\",\n",
    "                      \"roles\": \"Job_type\"}, inplace=True)\n",
    "users.dtypes"
   ]
  },
  {
   "cell_type": "markdown",
   "id": "e2515523",
   "metadata": {},
   "source": [
    "### 04 Users - Correct datatypes to match schema"
   ]
  },
  {
   "cell_type": "code",
   "execution_count": 91,
   "id": "5da8852b",
   "metadata": {},
   "outputs": [
    {
     "data": {
      "text/plain": [
       "Username      object\n",
       "Password      object\n",
       "First_name    object\n",
       "Last_name     object\n",
       "Job_type      object\n",
       "dtype: object"
      ]
     },
     "execution_count": 91,
     "metadata": {},
     "output_type": "execute_result"
    }
   ],
   "source": [
    "#TODO\n",
    "users = users.astype({\"Username\": \"str\", \n",
    "                       \"Password\": \"str\",\n",
    "                       \"First_name\": \"str\",\n",
    "                       \"Last_name\": \"str\",\n",
    "                       \"Job_type\": \"str\"})\n",
    "users.dtypes"
   ]
  },
  {
   "cell_type": "code",
   "execution_count": 92,
   "id": "4d79a81c",
   "metadata": {},
   "outputs": [
    {
     "data": {
      "text/html": [
       "<div>\n",
       "<style scoped>\n",
       "    .dataframe tbody tr th:only-of-type {\n",
       "        vertical-align: middle;\n",
       "    }\n",
       "\n",
       "    .dataframe tbody tr th {\n",
       "        vertical-align: top;\n",
       "    }\n",
       "\n",
       "    .dataframe thead th {\n",
       "        text-align: right;\n",
       "    }\n",
       "</style>\n",
       "<table border=\"1\" class=\"dataframe\">\n",
       "  <thead>\n",
       "    <tr style=\"text-align: right;\">\n",
       "      <th></th>\n",
       "      <th>Username</th>\n",
       "      <th>Password</th>\n",
       "      <th>First_name</th>\n",
       "      <th>Last_name</th>\n",
       "      <th>Job_type</th>\n",
       "    </tr>\n",
       "  </thead>\n",
       "  <tbody>\n",
       "    <tr>\n",
       "      <th>0</th>\n",
       "      <td>roland</td>\n",
       "      <td>roland</td>\n",
       "      <td>Roland</td>\n",
       "      <td>Around</td>\n",
       "      <td>inventory_clerk,manager,owner,sales_person,ser...</td>\n",
       "    </tr>\n",
       "    <tr>\n",
       "      <th>1</th>\n",
       "      <td>user01</td>\n",
       "      <td>pass01</td>\n",
       "      <td>Kris</td>\n",
       "      <td>Maisto</td>\n",
       "      <td>sales_person</td>\n",
       "    </tr>\n",
       "    <tr>\n",
       "      <th>2</th>\n",
       "      <td>user02</td>\n",
       "      <td>pass02</td>\n",
       "      <td>Dyan</td>\n",
       "      <td>Weglarz</td>\n",
       "      <td>manager</td>\n",
       "    </tr>\n",
       "    <tr>\n",
       "      <th>3</th>\n",
       "      <td>user03</td>\n",
       "      <td>pass03</td>\n",
       "      <td>Vi</td>\n",
       "      <td>Shields</td>\n",
       "      <td>inventory_clerk</td>\n",
       "    </tr>\n",
       "    <tr>\n",
       "      <th>4</th>\n",
       "      <td>user04</td>\n",
       "      <td>pass04</td>\n",
       "      <td>Pete</td>\n",
       "      <td>Butzen</td>\n",
       "      <td>sales_person</td>\n",
       "    </tr>\n",
       "    <tr>\n",
       "      <th>5</th>\n",
       "      <td>user05</td>\n",
       "      <td>pass05</td>\n",
       "      <td>Vi</td>\n",
       "      <td>Hoopengardner</td>\n",
       "      <td>inventory_clerk</td>\n",
       "    </tr>\n",
       "    <tr>\n",
       "      <th>6</th>\n",
       "      <td>user06</td>\n",
       "      <td>pass06</td>\n",
       "      <td>Sylvia</td>\n",
       "      <td>Rodenberger</td>\n",
       "      <td>sales_person</td>\n",
       "    </tr>\n",
       "    <tr>\n",
       "      <th>7</th>\n",
       "      <td>user07</td>\n",
       "      <td>pass07</td>\n",
       "      <td>Elke</td>\n",
       "      <td>Perez</td>\n",
       "      <td>inventory_clerk</td>\n",
       "    </tr>\n",
       "    <tr>\n",
       "      <th>8</th>\n",
       "      <td>user08</td>\n",
       "      <td>pass08</td>\n",
       "      <td>France</td>\n",
       "      <td>Matuszak</td>\n",
       "      <td>sales_person</td>\n",
       "    </tr>\n",
       "    <tr>\n",
       "      <th>9</th>\n",
       "      <td>user09</td>\n",
       "      <td>pass09</td>\n",
       "      <td>Novella</td>\n",
       "      <td>Gillian</td>\n",
       "      <td>inventory_clerk</td>\n",
       "    </tr>\n",
       "    <tr>\n",
       "      <th>10</th>\n",
       "      <td>user10</td>\n",
       "      <td>pass10</td>\n",
       "      <td>Paz</td>\n",
       "      <td>Sayaphon</td>\n",
       "      <td>sales_person</td>\n",
       "    </tr>\n",
       "    <tr>\n",
       "      <th>11</th>\n",
       "      <td>user11</td>\n",
       "      <td>pass11</td>\n",
       "      <td>Margart</td>\n",
       "      <td>Hoopengardner</td>\n",
       "      <td>inventory_clerk</td>\n",
       "    </tr>\n",
       "    <tr>\n",
       "      <th>12</th>\n",
       "      <td>user12</td>\n",
       "      <td>pass12</td>\n",
       "      <td>Gearldine</td>\n",
       "      <td>Discipio</td>\n",
       "      <td>service_writer</td>\n",
       "    </tr>\n",
       "    <tr>\n",
       "      <th>13</th>\n",
       "      <td>user13</td>\n",
       "      <td>pass13</td>\n",
       "      <td>Amber</td>\n",
       "      <td>Scheyer</td>\n",
       "      <td>service_writer</td>\n",
       "    </tr>\n",
       "    <tr>\n",
       "      <th>14</th>\n",
       "      <td>user14</td>\n",
       "      <td>pass14</td>\n",
       "      <td>Melissa</td>\n",
       "      <td>Shealy</td>\n",
       "      <td>inventory_clerk</td>\n",
       "    </tr>\n",
       "    <tr>\n",
       "      <th>15</th>\n",
       "      <td>user15</td>\n",
       "      <td>pass15</td>\n",
       "      <td>Yvonne</td>\n",
       "      <td>Poullion</td>\n",
       "      <td>service_writer</td>\n",
       "    </tr>\n",
       "    <tr>\n",
       "      <th>16</th>\n",
       "      <td>user16</td>\n",
       "      <td>pass16</td>\n",
       "      <td>Elvera</td>\n",
       "      <td>Funnell</td>\n",
       "      <td>inventory_clerk</td>\n",
       "    </tr>\n",
       "    <tr>\n",
       "      <th>17</th>\n",
       "      <td>user17</td>\n",
       "      <td>pass17</td>\n",
       "      <td>Sylvie</td>\n",
       "      <td>Lueckenbach</td>\n",
       "      <td>service_writer</td>\n",
       "    </tr>\n",
       "    <tr>\n",
       "      <th>18</th>\n",
       "      <td>user18</td>\n",
       "      <td>pass18</td>\n",
       "      <td>Viola</td>\n",
       "      <td>Reitler</td>\n",
       "      <td>inventory_clerk</td>\n",
       "    </tr>\n",
       "    <tr>\n",
       "      <th>19</th>\n",
       "      <td>user19</td>\n",
       "      <td>pass19</td>\n",
       "      <td>Delisa</td>\n",
       "      <td>Lary</td>\n",
       "      <td>sales_person</td>\n",
       "    </tr>\n",
       "    <tr>\n",
       "      <th>20</th>\n",
       "      <td>user20</td>\n",
       "      <td>pass20</td>\n",
       "      <td>Stephaine</td>\n",
       "      <td>Kitty</td>\n",
       "      <td>inventory_clerk</td>\n",
       "    </tr>\n",
       "    <tr>\n",
       "      <th>21</th>\n",
       "      <td>user21</td>\n",
       "      <td>pass21</td>\n",
       "      <td>Dyan</td>\n",
       "      <td>Lary</td>\n",
       "      <td>sales_person</td>\n",
       "    </tr>\n",
       "    <tr>\n",
       "      <th>22</th>\n",
       "      <td>user22</td>\n",
       "      <td>pass22</td>\n",
       "      <td>Glenn</td>\n",
       "      <td>Vocelka</td>\n",
       "      <td>sales_person</td>\n",
       "    </tr>\n",
       "    <tr>\n",
       "      <th>23</th>\n",
       "      <td>user23</td>\n",
       "      <td>pass23</td>\n",
       "      <td>Nan</td>\n",
       "      <td>Restrepo</td>\n",
       "      <td>sales_person</td>\n",
       "    </tr>\n",
       "    <tr>\n",
       "      <th>24</th>\n",
       "      <td>user24</td>\n",
       "      <td>pass24</td>\n",
       "      <td>Nobuko</td>\n",
       "      <td>Leto</td>\n",
       "      <td>manager</td>\n",
       "    </tr>\n",
       "    <tr>\n",
       "      <th>25</th>\n",
       "      <td>user25</td>\n",
       "      <td>pass25</td>\n",
       "      <td>Simona</td>\n",
       "      <td>Pawlowicz</td>\n",
       "      <td>inventory_clerk</td>\n",
       "    </tr>\n",
       "    <tr>\n",
       "      <th>26</th>\n",
       "      <td>user26</td>\n",
       "      <td>pass26</td>\n",
       "      <td>Nan</td>\n",
       "      <td>Dilliard</td>\n",
       "      <td>inventory_clerk</td>\n",
       "    </tr>\n",
       "    <tr>\n",
       "      <th>27</th>\n",
       "      <td>user27</td>\n",
       "      <td>pass27</td>\n",
       "      <td>Blondell</td>\n",
       "      <td>Juhas</td>\n",
       "      <td>inventory_clerk</td>\n",
       "    </tr>\n",
       "    <tr>\n",
       "      <th>28</th>\n",
       "      <td>user28</td>\n",
       "      <td>pass28</td>\n",
       "      <td>Youlanda</td>\n",
       "      <td>Nayar</td>\n",
       "      <td>manager</td>\n",
       "    </tr>\n",
       "    <tr>\n",
       "      <th>29</th>\n",
       "      <td>user29</td>\n",
       "      <td>pass29</td>\n",
       "      <td>Yvonne</td>\n",
       "      <td>Tillotson</td>\n",
       "      <td>service_writer</td>\n",
       "    </tr>\n",
       "    <tr>\n",
       "      <th>30</th>\n",
       "      <td>user30</td>\n",
       "      <td>pass30</td>\n",
       "      <td>Jenelle</td>\n",
       "      <td>Palaia</td>\n",
       "      <td>service_writer</td>\n",
       "    </tr>\n",
       "    <tr>\n",
       "      <th>31</th>\n",
       "      <td>user31</td>\n",
       "      <td>pass31</td>\n",
       "      <td>Leslie</td>\n",
       "      <td>Cloney</td>\n",
       "      <td>manager</td>\n",
       "    </tr>\n",
       "    <tr>\n",
       "      <th>32</th>\n",
       "      <td>user32</td>\n",
       "      <td>pass32</td>\n",
       "      <td>Glendora</td>\n",
       "      <td>Butt</td>\n",
       "      <td>sales_person</td>\n",
       "    </tr>\n",
       "    <tr>\n",
       "      <th>33</th>\n",
       "      <td>user33</td>\n",
       "      <td>pass33</td>\n",
       "      <td>Jacqueline</td>\n",
       "      <td>Campain</td>\n",
       "      <td>service_writer</td>\n",
       "    </tr>\n",
       "  </tbody>\n",
       "</table>\n",
       "</div>"
      ],
      "text/plain": [
       "   Username Password  First_name      Last_name  \\\n",
       "0    roland   roland      Roland         Around   \n",
       "1    user01   pass01        Kris         Maisto   \n",
       "2    user02   pass02        Dyan        Weglarz   \n",
       "3    user03   pass03          Vi        Shields   \n",
       "4    user04   pass04        Pete         Butzen   \n",
       "5    user05   pass05          Vi  Hoopengardner   \n",
       "6    user06   pass06      Sylvia    Rodenberger   \n",
       "7    user07   pass07        Elke          Perez   \n",
       "8    user08   pass08      France       Matuszak   \n",
       "9    user09   pass09     Novella        Gillian   \n",
       "10   user10   pass10         Paz       Sayaphon   \n",
       "11   user11   pass11     Margart  Hoopengardner   \n",
       "12   user12   pass12   Gearldine       Discipio   \n",
       "13   user13   pass13       Amber        Scheyer   \n",
       "14   user14   pass14     Melissa         Shealy   \n",
       "15   user15   pass15      Yvonne       Poullion   \n",
       "16   user16   pass16      Elvera        Funnell   \n",
       "17   user17   pass17      Sylvie    Lueckenbach   \n",
       "18   user18   pass18       Viola        Reitler   \n",
       "19   user19   pass19      Delisa           Lary   \n",
       "20   user20   pass20   Stephaine          Kitty   \n",
       "21   user21   pass21        Dyan           Lary   \n",
       "22   user22   pass22       Glenn        Vocelka   \n",
       "23   user23   pass23         Nan       Restrepo   \n",
       "24   user24   pass24      Nobuko           Leto   \n",
       "25   user25   pass25      Simona      Pawlowicz   \n",
       "26   user26   pass26         Nan       Dilliard   \n",
       "27   user27   pass27    Blondell          Juhas   \n",
       "28   user28   pass28    Youlanda          Nayar   \n",
       "29   user29   pass29      Yvonne      Tillotson   \n",
       "30   user30   pass30     Jenelle         Palaia   \n",
       "31   user31   pass31      Leslie         Cloney   \n",
       "32   user32   pass32    Glendora           Butt   \n",
       "33   user33   pass33  Jacqueline        Campain   \n",
       "\n",
       "                                             Job_type  \n",
       "0   inventory_clerk,manager,owner,sales_person,ser...  \n",
       "1                                        sales_person  \n",
       "2                                             manager  \n",
       "3                                     inventory_clerk  \n",
       "4                                        sales_person  \n",
       "5                                     inventory_clerk  \n",
       "6                                        sales_person  \n",
       "7                                     inventory_clerk  \n",
       "8                                        sales_person  \n",
       "9                                     inventory_clerk  \n",
       "10                                       sales_person  \n",
       "11                                    inventory_clerk  \n",
       "12                                     service_writer  \n",
       "13                                     service_writer  \n",
       "14                                    inventory_clerk  \n",
       "15                                     service_writer  \n",
       "16                                    inventory_clerk  \n",
       "17                                     service_writer  \n",
       "18                                    inventory_clerk  \n",
       "19                                       sales_person  \n",
       "20                                    inventory_clerk  \n",
       "21                                       sales_person  \n",
       "22                                       sales_person  \n",
       "23                                       sales_person  \n",
       "24                                            manager  \n",
       "25                                    inventory_clerk  \n",
       "26                                    inventory_clerk  \n",
       "27                                    inventory_clerk  \n",
       "28                                            manager  \n",
       "29                                     service_writer  \n",
       "30                                     service_writer  \n",
       "31                                            manager  \n",
       "32                                       sales_person  \n",
       "33                                     service_writer  "
      ]
     },
     "execution_count": 92,
     "metadata": {},
     "output_type": "execute_result"
    }
   ],
   "source": [
    "users"
   ]
  },
  {
   "cell_type": "markdown",
   "id": "c5eef2ea",
   "metadata": {},
   "source": [
    "### 05 Users - Load Data to database"
   ]
  },
  {
   "cell_type": "code",
   "execution_count": 102,
   "id": "3472d093",
   "metadata": {},
   "outputs": [
    {
     "ename": "MemoryError",
     "evalue": "",
     "output_type": "error",
     "traceback": [
      "\u001b[1;31m---------------------------------------------------------------------------\u001b[0m",
      "\u001b[1;31mMemoryError\u001b[0m                               Traceback (most recent call last)",
      "\u001b[1;32m~\\AppData\\Local\\Temp/ipykernel_28024/2171170523.py\u001b[0m in \u001b[0;36m<module>\u001b[1;34m\u001b[0m\n\u001b[0;32m      7\u001b[0m     \u001b[0mdf\u001b[0m\u001b[1;33m.\u001b[0m\u001b[0mto_sql\u001b[0m\u001b[1;33m(\u001b[0m\u001b[0mdatabase_table_name\u001b[0m\u001b[1;33m,\u001b[0m \u001b[0mengine\u001b[0m\u001b[1;33m,\u001b[0m \u001b[0mif_exists\u001b[0m\u001b[1;33m=\u001b[0m\u001b[1;34m\"append\"\u001b[0m\u001b[1;33m,\u001b[0m \u001b[0mindex\u001b[0m\u001b[1;33m=\u001b[0m\u001b[1;32mFalse\u001b[0m\u001b[1;33m,\u001b[0m\u001b[0mchunksize\u001b[0m \u001b[1;33m=\u001b[0m \u001b[1;36m10\u001b[0m\u001b[1;33m)\u001b[0m\u001b[1;33m\u001b[0m\u001b[1;33m\u001b[0m\u001b[0m\n\u001b[0;32m      8\u001b[0m \u001b[1;33m\u001b[0m\u001b[0m\n\u001b[1;32m----> 9\u001b[1;33m \u001b[0mload_pandas_to_database\u001b[0m\u001b[1;33m(\u001b[0m\u001b[0musers\u001b[0m\u001b[1;33m,\u001b[0m\u001b[1;34m\"database_table_name\"\u001b[0m\u001b[1;33m)\u001b[0m\u001b[1;33m\u001b[0m\u001b[1;33m\u001b[0m\u001b[0m\n\u001b[0m",
      "\u001b[1;32m~\\AppData\\Local\\Temp/ipykernel_28024/2171170523.py\u001b[0m in \u001b[0;36mload_pandas_to_database\u001b[1;34m(df, database_table_name)\u001b[0m\n\u001b[0;32m      5\u001b[0m     \u001b[0mconnection_uri\u001b[0m \u001b[1;33m=\u001b[0m \u001b[1;34mf\"mssql+pyodbc:///?odbc_connect={urllib.parse.quote_plus(connection_string)}\"\u001b[0m\u001b[1;33m\u001b[0m\u001b[1;33m\u001b[0m\u001b[0m\n\u001b[0;32m      6\u001b[0m     \u001b[0mengine\u001b[0m \u001b[1;33m=\u001b[0m \u001b[0msa\u001b[0m\u001b[1;33m.\u001b[0m\u001b[0mcreate_engine\u001b[0m\u001b[1;33m(\u001b[0m\u001b[0mconnection_uri\u001b[0m\u001b[1;33m,\u001b[0m \u001b[0mfast_executemany\u001b[0m\u001b[1;33m=\u001b[0m\u001b[1;32mTrue\u001b[0m\u001b[1;33m)\u001b[0m\u001b[1;33m\u001b[0m\u001b[1;33m\u001b[0m\u001b[0m\n\u001b[1;32m----> 7\u001b[1;33m     \u001b[0mdf\u001b[0m\u001b[1;33m.\u001b[0m\u001b[0mto_sql\u001b[0m\u001b[1;33m(\u001b[0m\u001b[0mdatabase_table_name\u001b[0m\u001b[1;33m,\u001b[0m \u001b[0mengine\u001b[0m\u001b[1;33m,\u001b[0m \u001b[0mif_exists\u001b[0m\u001b[1;33m=\u001b[0m\u001b[1;34m\"append\"\u001b[0m\u001b[1;33m,\u001b[0m \u001b[0mindex\u001b[0m\u001b[1;33m=\u001b[0m\u001b[1;32mFalse\u001b[0m\u001b[1;33m,\u001b[0m\u001b[0mchunksize\u001b[0m \u001b[1;33m=\u001b[0m \u001b[1;36m10\u001b[0m\u001b[1;33m)\u001b[0m\u001b[1;33m\u001b[0m\u001b[1;33m\u001b[0m\u001b[0m\n\u001b[0m\u001b[0;32m      8\u001b[0m \u001b[1;33m\u001b[0m\u001b[0m\n\u001b[0;32m      9\u001b[0m \u001b[0mload_pandas_to_database\u001b[0m\u001b[1;33m(\u001b[0m\u001b[0musers\u001b[0m\u001b[1;33m,\u001b[0m\u001b[1;34m\"database_table_name\"\u001b[0m\u001b[1;33m)\u001b[0m\u001b[1;33m\u001b[0m\u001b[1;33m\u001b[0m\u001b[0m\n",
      "\u001b[1;32m~\\anaconda3\\lib\\site-packages\\pandas\\core\\generic.py\u001b[0m in \u001b[0;36mto_sql\u001b[1;34m(self, name, con, schema, if_exists, index, index_label, chunksize, dtype, method)\u001b[0m\n\u001b[0;32m   2870\u001b[0m         \u001b[1;32mfrom\u001b[0m \u001b[0mpandas\u001b[0m\u001b[1;33m.\u001b[0m\u001b[0mio\u001b[0m \u001b[1;32mimport\u001b[0m \u001b[0msql\u001b[0m\u001b[1;33m\u001b[0m\u001b[1;33m\u001b[0m\u001b[0m\n\u001b[0;32m   2871\u001b[0m \u001b[1;33m\u001b[0m\u001b[0m\n\u001b[1;32m-> 2872\u001b[1;33m         sql.to_sql(\n\u001b[0m\u001b[0;32m   2873\u001b[0m             \u001b[0mself\u001b[0m\u001b[1;33m,\u001b[0m\u001b[1;33m\u001b[0m\u001b[1;33m\u001b[0m\u001b[0m\n\u001b[0;32m   2874\u001b[0m             \u001b[0mname\u001b[0m\u001b[1;33m,\u001b[0m\u001b[1;33m\u001b[0m\u001b[1;33m\u001b[0m\u001b[0m\n",
      "\u001b[1;32m~\\anaconda3\\lib\\site-packages\\pandas\\io\\sql.py\u001b[0m in \u001b[0;36mto_sql\u001b[1;34m(frame, name, con, schema, if_exists, index, index_label, chunksize, dtype, method, engine, **engine_kwargs)\u001b[0m\n\u001b[0;32m    715\u001b[0m         )\n\u001b[0;32m    716\u001b[0m \u001b[1;33m\u001b[0m\u001b[0m\n\u001b[1;32m--> 717\u001b[1;33m     pandas_sql.to_sql(\n\u001b[0m\u001b[0;32m    718\u001b[0m         \u001b[0mframe\u001b[0m\u001b[1;33m,\u001b[0m\u001b[1;33m\u001b[0m\u001b[1;33m\u001b[0m\u001b[0m\n\u001b[0;32m    719\u001b[0m         \u001b[0mname\u001b[0m\u001b[1;33m,\u001b[0m\u001b[1;33m\u001b[0m\u001b[1;33m\u001b[0m\u001b[0m\n",
      "\u001b[1;32m~\\anaconda3\\lib\\site-packages\\pandas\\io\\sql.py\u001b[0m in \u001b[0;36mto_sql\u001b[1;34m(self, frame, name, if_exists, index, index_label, schema, chunksize, dtype, method, engine, **engine_kwargs)\u001b[0m\n\u001b[0;32m   1759\u001b[0m         )\n\u001b[0;32m   1760\u001b[0m \u001b[1;33m\u001b[0m\u001b[0m\n\u001b[1;32m-> 1761\u001b[1;33m         sql_engine.insert_records(\n\u001b[0m\u001b[0;32m   1762\u001b[0m             \u001b[0mtable\u001b[0m\u001b[1;33m=\u001b[0m\u001b[0mtable\u001b[0m\u001b[1;33m,\u001b[0m\u001b[1;33m\u001b[0m\u001b[1;33m\u001b[0m\u001b[0m\n\u001b[0;32m   1763\u001b[0m             \u001b[0mcon\u001b[0m\u001b[1;33m=\u001b[0m\u001b[0mself\u001b[0m\u001b[1;33m.\u001b[0m\u001b[0mconnectable\u001b[0m\u001b[1;33m,\u001b[0m\u001b[1;33m\u001b[0m\u001b[1;33m\u001b[0m\u001b[0m\n",
      "\u001b[1;32m~\\anaconda3\\lib\\site-packages\\pandas\\io\\sql.py\u001b[0m in \u001b[0;36minsert_records\u001b[1;34m(self, table, con, frame, name, index, schema, chunksize, method, **engine_kwargs)\u001b[0m\n\u001b[0;32m   1338\u001b[0m \u001b[1;33m\u001b[0m\u001b[0m\n\u001b[0;32m   1339\u001b[0m         \u001b[1;32mtry\u001b[0m\u001b[1;33m:\u001b[0m\u001b[1;33m\u001b[0m\u001b[1;33m\u001b[0m\u001b[0m\n\u001b[1;32m-> 1340\u001b[1;33m             \u001b[0mtable\u001b[0m\u001b[1;33m.\u001b[0m\u001b[0minsert\u001b[0m\u001b[1;33m(\u001b[0m\u001b[0mchunksize\u001b[0m\u001b[1;33m=\u001b[0m\u001b[0mchunksize\u001b[0m\u001b[1;33m,\u001b[0m \u001b[0mmethod\u001b[0m\u001b[1;33m=\u001b[0m\u001b[0mmethod\u001b[0m\u001b[1;33m)\u001b[0m\u001b[1;33m\u001b[0m\u001b[1;33m\u001b[0m\u001b[0m\n\u001b[0m\u001b[0;32m   1341\u001b[0m         \u001b[1;32mexcept\u001b[0m \u001b[0mexc\u001b[0m\u001b[1;33m.\u001b[0m\u001b[0mSQLAlchemyError\u001b[0m \u001b[1;32mas\u001b[0m \u001b[0merr\u001b[0m\u001b[1;33m:\u001b[0m\u001b[1;33m\u001b[0m\u001b[1;33m\u001b[0m\u001b[0m\n\u001b[0;32m   1342\u001b[0m             \u001b[1;31m# GH34431\u001b[0m\u001b[1;33m\u001b[0m\u001b[1;33m\u001b[0m\u001b[0m\n",
      "\u001b[1;32m~\\anaconda3\\lib\\site-packages\\pandas\\io\\sql.py\u001b[0m in \u001b[0;36minsert\u001b[1;34m(self, chunksize, method)\u001b[0m\n\u001b[0;32m    965\u001b[0m \u001b[1;33m\u001b[0m\u001b[0m\n\u001b[0;32m    966\u001b[0m                 \u001b[0mchunk_iter\u001b[0m \u001b[1;33m=\u001b[0m \u001b[0mzip\u001b[0m\u001b[1;33m(\u001b[0m\u001b[1;33m*\u001b[0m\u001b[1;33m[\u001b[0m\u001b[0marr\u001b[0m\u001b[1;33m[\u001b[0m\u001b[0mstart_i\u001b[0m\u001b[1;33m:\u001b[0m\u001b[0mend_i\u001b[0m\u001b[1;33m]\u001b[0m \u001b[1;32mfor\u001b[0m \u001b[0marr\u001b[0m \u001b[1;32min\u001b[0m \u001b[0mdata_list\u001b[0m\u001b[1;33m]\u001b[0m\u001b[1;33m)\u001b[0m\u001b[1;33m\u001b[0m\u001b[1;33m\u001b[0m\u001b[0m\n\u001b[1;32m--> 967\u001b[1;33m                 \u001b[0mexec_insert\u001b[0m\u001b[1;33m(\u001b[0m\u001b[0mconn\u001b[0m\u001b[1;33m,\u001b[0m \u001b[0mkeys\u001b[0m\u001b[1;33m,\u001b[0m \u001b[0mchunk_iter\u001b[0m\u001b[1;33m)\u001b[0m\u001b[1;33m\u001b[0m\u001b[1;33m\u001b[0m\u001b[0m\n\u001b[0m\u001b[0;32m    968\u001b[0m \u001b[1;33m\u001b[0m\u001b[0m\n\u001b[0;32m    969\u001b[0m     def _query_iterator(\n",
      "\u001b[1;32m~\\anaconda3\\lib\\site-packages\\pandas\\io\\sql.py\u001b[0m in \u001b[0;36m_execute_insert\u001b[1;34m(self, conn, keys, data_iter)\u001b[0m\n\u001b[0;32m    880\u001b[0m         \"\"\"\n\u001b[0;32m    881\u001b[0m         \u001b[0mdata\u001b[0m \u001b[1;33m=\u001b[0m \u001b[1;33m[\u001b[0m\u001b[0mdict\u001b[0m\u001b[1;33m(\u001b[0m\u001b[0mzip\u001b[0m\u001b[1;33m(\u001b[0m\u001b[0mkeys\u001b[0m\u001b[1;33m,\u001b[0m \u001b[0mrow\u001b[0m\u001b[1;33m)\u001b[0m\u001b[1;33m)\u001b[0m \u001b[1;32mfor\u001b[0m \u001b[0mrow\u001b[0m \u001b[1;32min\u001b[0m \u001b[0mdata_iter\u001b[0m\u001b[1;33m]\u001b[0m\u001b[1;33m\u001b[0m\u001b[1;33m\u001b[0m\u001b[0m\n\u001b[1;32m--> 882\u001b[1;33m         \u001b[0mconn\u001b[0m\u001b[1;33m.\u001b[0m\u001b[0mexecute\u001b[0m\u001b[1;33m(\u001b[0m\u001b[0mself\u001b[0m\u001b[1;33m.\u001b[0m\u001b[0mtable\u001b[0m\u001b[1;33m.\u001b[0m\u001b[0minsert\u001b[0m\u001b[1;33m(\u001b[0m\u001b[1;33m)\u001b[0m\u001b[1;33m,\u001b[0m \u001b[0mdata\u001b[0m\u001b[1;33m)\u001b[0m\u001b[1;33m\u001b[0m\u001b[1;33m\u001b[0m\u001b[0m\n\u001b[0m\u001b[0;32m    883\u001b[0m \u001b[1;33m\u001b[0m\u001b[0m\n\u001b[0;32m    884\u001b[0m     \u001b[1;32mdef\u001b[0m \u001b[0m_execute_insert_multi\u001b[0m\u001b[1;33m(\u001b[0m\u001b[0mself\u001b[0m\u001b[1;33m,\u001b[0m \u001b[0mconn\u001b[0m\u001b[1;33m,\u001b[0m \u001b[0mkeys\u001b[0m\u001b[1;33m:\u001b[0m \u001b[0mlist\u001b[0m\u001b[1;33m[\u001b[0m\u001b[0mstr\u001b[0m\u001b[1;33m]\u001b[0m\u001b[1;33m,\u001b[0m \u001b[0mdata_iter\u001b[0m\u001b[1;33m)\u001b[0m\u001b[1;33m:\u001b[0m\u001b[1;33m\u001b[0m\u001b[1;33m\u001b[0m\u001b[0m\n",
      "\u001b[1;32m~\\anaconda3\\lib\\site-packages\\sqlalchemy\\engine\\base.py\u001b[0m in \u001b[0;36mexecute\u001b[1;34m(self, statement, *multiparams, **params)\u001b[0m\n\u001b[0;32m   1261\u001b[0m             )\n\u001b[0;32m   1262\u001b[0m         \u001b[1;32melse\u001b[0m\u001b[1;33m:\u001b[0m\u001b[1;33m\u001b[0m\u001b[1;33m\u001b[0m\u001b[0m\n\u001b[1;32m-> 1263\u001b[1;33m             \u001b[1;32mreturn\u001b[0m \u001b[0mmeth\u001b[0m\u001b[1;33m(\u001b[0m\u001b[0mself\u001b[0m\u001b[1;33m,\u001b[0m \u001b[0mmultiparams\u001b[0m\u001b[1;33m,\u001b[0m \u001b[0mparams\u001b[0m\u001b[1;33m,\u001b[0m \u001b[0m_EMPTY_EXECUTION_OPTS\u001b[0m\u001b[1;33m)\u001b[0m\u001b[1;33m\u001b[0m\u001b[1;33m\u001b[0m\u001b[0m\n\u001b[0m\u001b[0;32m   1264\u001b[0m \u001b[1;33m\u001b[0m\u001b[0m\n\u001b[0;32m   1265\u001b[0m     \u001b[1;32mdef\u001b[0m \u001b[0m_execute_function\u001b[0m\u001b[1;33m(\u001b[0m\u001b[0mself\u001b[0m\u001b[1;33m,\u001b[0m \u001b[0mfunc\u001b[0m\u001b[1;33m,\u001b[0m \u001b[0mmultiparams\u001b[0m\u001b[1;33m,\u001b[0m \u001b[0mparams\u001b[0m\u001b[1;33m,\u001b[0m \u001b[0mexecution_options\u001b[0m\u001b[1;33m)\u001b[0m\u001b[1;33m:\u001b[0m\u001b[1;33m\u001b[0m\u001b[1;33m\u001b[0m\u001b[0m\n",
      "\u001b[1;32m~\\anaconda3\\lib\\site-packages\\sqlalchemy\\sql\\elements.py\u001b[0m in \u001b[0;36m_execute_on_connection\u001b[1;34m(self, connection, multiparams, params, execution_options, _force)\u001b[0m\n\u001b[0;32m    321\u001b[0m     ):\n\u001b[0;32m    322\u001b[0m         \u001b[1;32mif\u001b[0m \u001b[0m_force\u001b[0m \u001b[1;32mor\u001b[0m \u001b[0mself\u001b[0m\u001b[1;33m.\u001b[0m\u001b[0msupports_execution\u001b[0m\u001b[1;33m:\u001b[0m\u001b[1;33m\u001b[0m\u001b[1;33m\u001b[0m\u001b[0m\n\u001b[1;32m--> 323\u001b[1;33m             return connection._execute_clauseelement(\n\u001b[0m\u001b[0;32m    324\u001b[0m                 \u001b[0mself\u001b[0m\u001b[1;33m,\u001b[0m \u001b[0mmultiparams\u001b[0m\u001b[1;33m,\u001b[0m \u001b[0mparams\u001b[0m\u001b[1;33m,\u001b[0m \u001b[0mexecution_options\u001b[0m\u001b[1;33m\u001b[0m\u001b[1;33m\u001b[0m\u001b[0m\n\u001b[0;32m    325\u001b[0m             )\n",
      "\u001b[1;32m~\\anaconda3\\lib\\site-packages\\sqlalchemy\\engine\\base.py\u001b[0m in \u001b[0;36m_execute_clauseelement\u001b[1;34m(self, elem, multiparams, params, execution_options)\u001b[0m\n\u001b[0;32m   1450\u001b[0m             \u001b[0mlinting\u001b[0m\u001b[1;33m=\u001b[0m\u001b[0mself\u001b[0m\u001b[1;33m.\u001b[0m\u001b[0mdialect\u001b[0m\u001b[1;33m.\u001b[0m\u001b[0mcompiler_linting\u001b[0m \u001b[1;33m|\u001b[0m \u001b[0mcompiler\u001b[0m\u001b[1;33m.\u001b[0m\u001b[0mWARN_LINTING\u001b[0m\u001b[1;33m,\u001b[0m\u001b[1;33m\u001b[0m\u001b[1;33m\u001b[0m\u001b[0m\n\u001b[0;32m   1451\u001b[0m         )\n\u001b[1;32m-> 1452\u001b[1;33m         ret = self._execute_context(\n\u001b[0m\u001b[0;32m   1453\u001b[0m             \u001b[0mdialect\u001b[0m\u001b[1;33m,\u001b[0m\u001b[1;33m\u001b[0m\u001b[1;33m\u001b[0m\u001b[0m\n\u001b[0;32m   1454\u001b[0m             \u001b[0mdialect\u001b[0m\u001b[1;33m.\u001b[0m\u001b[0mexecution_ctx_cls\u001b[0m\u001b[1;33m.\u001b[0m\u001b[0m_init_compiled\u001b[0m\u001b[1;33m,\u001b[0m\u001b[1;33m\u001b[0m\u001b[1;33m\u001b[0m\u001b[0m\n",
      "\u001b[1;32m~\\anaconda3\\lib\\site-packages\\sqlalchemy\\engine\\base.py\u001b[0m in \u001b[0;36m_execute_context\u001b[1;34m(self, dialect, constructor, statement, parameters, execution_options, *args, **kw)\u001b[0m\n\u001b[0;32m   1812\u001b[0m \u001b[1;33m\u001b[0m\u001b[0m\n\u001b[0;32m   1813\u001b[0m         \u001b[1;32mexcept\u001b[0m \u001b[0mBaseException\u001b[0m \u001b[1;32mas\u001b[0m \u001b[0me\u001b[0m\u001b[1;33m:\u001b[0m\u001b[1;33m\u001b[0m\u001b[1;33m\u001b[0m\u001b[0m\n\u001b[1;32m-> 1814\u001b[1;33m             self._handle_dbapi_exception(\n\u001b[0m\u001b[0;32m   1815\u001b[0m                 \u001b[0me\u001b[0m\u001b[1;33m,\u001b[0m \u001b[0mstatement\u001b[0m\u001b[1;33m,\u001b[0m \u001b[0mparameters\u001b[0m\u001b[1;33m,\u001b[0m \u001b[0mcursor\u001b[0m\u001b[1;33m,\u001b[0m \u001b[0mcontext\u001b[0m\u001b[1;33m\u001b[0m\u001b[1;33m\u001b[0m\u001b[0m\n\u001b[0;32m   1816\u001b[0m             )\n",
      "\u001b[1;32m~\\anaconda3\\lib\\site-packages\\sqlalchemy\\engine\\base.py\u001b[0m in \u001b[0;36m_handle_dbapi_exception\u001b[1;34m(self, e, statement, parameters, cursor, context)\u001b[0m\n\u001b[0;32m   1997\u001b[0m                 )\n\u001b[0;32m   1998\u001b[0m             \u001b[1;32melse\u001b[0m\u001b[1;33m:\u001b[0m\u001b[1;33m\u001b[0m\u001b[1;33m\u001b[0m\u001b[0m\n\u001b[1;32m-> 1999\u001b[1;33m                 \u001b[0mutil\u001b[0m\u001b[1;33m.\u001b[0m\u001b[0mraise_\u001b[0m\u001b[1;33m(\u001b[0m\u001b[0mexc_info\u001b[0m\u001b[1;33m[\u001b[0m\u001b[1;36m1\u001b[0m\u001b[1;33m]\u001b[0m\u001b[1;33m,\u001b[0m \u001b[0mwith_traceback\u001b[0m\u001b[1;33m=\u001b[0m\u001b[0mexc_info\u001b[0m\u001b[1;33m[\u001b[0m\u001b[1;36m2\u001b[0m\u001b[1;33m]\u001b[0m\u001b[1;33m)\u001b[0m\u001b[1;33m\u001b[0m\u001b[1;33m\u001b[0m\u001b[0m\n\u001b[0m\u001b[0;32m   2000\u001b[0m \u001b[1;33m\u001b[0m\u001b[0m\n\u001b[0;32m   2001\u001b[0m         \u001b[1;32mfinally\u001b[0m\u001b[1;33m:\u001b[0m\u001b[1;33m\u001b[0m\u001b[1;33m\u001b[0m\u001b[0m\n",
      "\u001b[1;32m~\\anaconda3\\lib\\site-packages\\sqlalchemy\\util\\compat.py\u001b[0m in \u001b[0;36mraise_\u001b[1;34m(***failed resolving arguments***)\u001b[0m\n\u001b[0;32m    205\u001b[0m \u001b[1;33m\u001b[0m\u001b[0m\n\u001b[0;32m    206\u001b[0m         \u001b[1;32mtry\u001b[0m\u001b[1;33m:\u001b[0m\u001b[1;33m\u001b[0m\u001b[1;33m\u001b[0m\u001b[0m\n\u001b[1;32m--> 207\u001b[1;33m             \u001b[1;32mraise\u001b[0m \u001b[0mexception\u001b[0m\u001b[1;33m\u001b[0m\u001b[1;33m\u001b[0m\u001b[0m\n\u001b[0m\u001b[0;32m    208\u001b[0m         \u001b[1;32mfinally\u001b[0m\u001b[1;33m:\u001b[0m\u001b[1;33m\u001b[0m\u001b[1;33m\u001b[0m\u001b[0m\n\u001b[0;32m    209\u001b[0m             \u001b[1;31m# credit to\u001b[0m\u001b[1;33m\u001b[0m\u001b[1;33m\u001b[0m\u001b[0m\n",
      "\u001b[1;32m~\\anaconda3\\lib\\site-packages\\sqlalchemy\\engine\\base.py\u001b[0m in \u001b[0;36m_execute_context\u001b[1;34m(self, dialect, constructor, statement, parameters, execution_options, *args, **kw)\u001b[0m\n\u001b[0;32m   1749\u001b[0m                             \u001b[1;32mbreak\u001b[0m\u001b[1;33m\u001b[0m\u001b[1;33m\u001b[0m\u001b[0m\n\u001b[0;32m   1750\u001b[0m                 \u001b[1;32mif\u001b[0m \u001b[1;32mnot\u001b[0m \u001b[0mevt_handled\u001b[0m\u001b[1;33m:\u001b[0m\u001b[1;33m\u001b[0m\u001b[1;33m\u001b[0m\u001b[0m\n\u001b[1;32m-> 1751\u001b[1;33m                     self.dialect.do_executemany(\n\u001b[0m\u001b[0;32m   1752\u001b[0m                         \u001b[0mcursor\u001b[0m\u001b[1;33m,\u001b[0m \u001b[0mstatement\u001b[0m\u001b[1;33m,\u001b[0m \u001b[0mparameters\u001b[0m\u001b[1;33m,\u001b[0m \u001b[0mcontext\u001b[0m\u001b[1;33m\u001b[0m\u001b[1;33m\u001b[0m\u001b[0m\n\u001b[0;32m   1753\u001b[0m                     )\n",
      "\u001b[1;32m~\\anaconda3\\lib\\site-packages\\sqlalchemy\\dialects\\mssql\\pyodbc.py\u001b[0m in \u001b[0;36mdo_executemany\u001b[1;34m(self, cursor, statement, parameters, context)\u001b[0m\n\u001b[0;32m    548\u001b[0m         \u001b[1;32mif\u001b[0m \u001b[0mself\u001b[0m\u001b[1;33m.\u001b[0m\u001b[0mfast_executemany\u001b[0m\u001b[1;33m:\u001b[0m\u001b[1;33m\u001b[0m\u001b[1;33m\u001b[0m\u001b[0m\n\u001b[0;32m    549\u001b[0m             \u001b[0mcursor\u001b[0m\u001b[1;33m.\u001b[0m\u001b[0mfast_executemany\u001b[0m \u001b[1;33m=\u001b[0m \u001b[1;32mTrue\u001b[0m\u001b[1;33m\u001b[0m\u001b[1;33m\u001b[0m\u001b[0m\n\u001b[1;32m--> 550\u001b[1;33m         super(MSDialect_pyodbc, self).do_executemany(\n\u001b[0m\u001b[0;32m    551\u001b[0m             \u001b[0mcursor\u001b[0m\u001b[1;33m,\u001b[0m \u001b[0mstatement\u001b[0m\u001b[1;33m,\u001b[0m \u001b[0mparameters\u001b[0m\u001b[1;33m,\u001b[0m \u001b[0mcontext\u001b[0m\u001b[1;33m=\u001b[0m\u001b[0mcontext\u001b[0m\u001b[1;33m\u001b[0m\u001b[1;33m\u001b[0m\u001b[0m\n\u001b[0;32m    552\u001b[0m         )\n",
      "\u001b[1;32m~\\anaconda3\\lib\\site-packages\\sqlalchemy\\engine\\default.py\u001b[0m in \u001b[0;36mdo_executemany\u001b[1;34m(self, cursor, statement, parameters, context)\u001b[0m\n\u001b[0;32m    712\u001b[0m \u001b[1;33m\u001b[0m\u001b[0m\n\u001b[0;32m    713\u001b[0m     \u001b[1;32mdef\u001b[0m \u001b[0mdo_executemany\u001b[0m\u001b[1;33m(\u001b[0m\u001b[0mself\u001b[0m\u001b[1;33m,\u001b[0m \u001b[0mcursor\u001b[0m\u001b[1;33m,\u001b[0m \u001b[0mstatement\u001b[0m\u001b[1;33m,\u001b[0m \u001b[0mparameters\u001b[0m\u001b[1;33m,\u001b[0m \u001b[0mcontext\u001b[0m\u001b[1;33m=\u001b[0m\u001b[1;32mNone\u001b[0m\u001b[1;33m)\u001b[0m\u001b[1;33m:\u001b[0m\u001b[1;33m\u001b[0m\u001b[1;33m\u001b[0m\u001b[0m\n\u001b[1;32m--> 714\u001b[1;33m         \u001b[0mcursor\u001b[0m\u001b[1;33m.\u001b[0m\u001b[0mexecutemany\u001b[0m\u001b[1;33m(\u001b[0m\u001b[0mstatement\u001b[0m\u001b[1;33m,\u001b[0m \u001b[0mparameters\u001b[0m\u001b[1;33m)\u001b[0m\u001b[1;33m\u001b[0m\u001b[1;33m\u001b[0m\u001b[0m\n\u001b[0m\u001b[0;32m    715\u001b[0m \u001b[1;33m\u001b[0m\u001b[0m\n\u001b[0;32m    716\u001b[0m     \u001b[1;32mdef\u001b[0m \u001b[0mdo_execute\u001b[0m\u001b[1;33m(\u001b[0m\u001b[0mself\u001b[0m\u001b[1;33m,\u001b[0m \u001b[0mcursor\u001b[0m\u001b[1;33m,\u001b[0m \u001b[0mstatement\u001b[0m\u001b[1;33m,\u001b[0m \u001b[0mparameters\u001b[0m\u001b[1;33m,\u001b[0m \u001b[0mcontext\u001b[0m\u001b[1;33m=\u001b[0m\u001b[1;32mNone\u001b[0m\u001b[1;33m)\u001b[0m\u001b[1;33m:\u001b[0m\u001b[1;33m\u001b[0m\u001b[1;33m\u001b[0m\u001b[0m\n",
      "\u001b[1;31mMemoryError\u001b[0m: "
     ]
    }
   ],
   "source": [
    "#TODO \n",
    "def load_pandas_to_database(df, database_table_name):\n",
    "    SERVER = os.getenv(\"DB_SERVER\", \"MAORYZEN7\\SQLEXPRESS\")\n",
    "    connection_string = 'Driver={SQL Server};Server=%s;Database=CS6400;Trusted_Connection=yes;' % ( SERVER )\n",
    "    connection_uri = f\"mssql+pyodbc:///?odbc_connect={urllib.parse.quote_plus(connection_string)}\"\n",
    "    engine = sa.create_engine(connection_uri, fast_executemany=True)\n",
    "    df.to_sql(database_table_name, engine, if_exists=\"append\", index=False,chunksize = 10)\n",
    "\n",
    "load_pandas_to_database(users,\"database_table_name\")\n"
   ]
  },
  {
   "cell_type": "markdown",
   "id": "ffcbd770",
   "metadata": {},
   "source": [
    "# Repairs Data\n",
    "\n",
    "<hr style=\"border:1px solid gray\"> </hr>\n",
    "\n",
    "**Our Schema_______________Provided Data**\n",
    "\n",
    "```\n",
    "Repair        -----   repairs\n",
    "```\n",
    "\n",
    "### 01 Repairs - Review provided data (content, types, cols)"
   ]
  },
  {
   "cell_type": "code",
   "execution_count": null,
   "id": "77dfa8b0",
   "metadata": {},
   "outputs": [],
   "source": [
    "repairs= pd.read_csv(repairs_path, sep = \"\\t\")\n",
    "repairs.dtypes"
   ]
  },
  {
   "cell_type": "markdown",
   "id": "10ad0cac",
   "metadata": {},
   "source": [
    "### 02 Repairs - Breakdown input data to match schema"
   ]
  },
  {
   "cell_type": "code",
   "execution_count": null,
   "id": "2ff353cf",
   "metadata": {},
   "outputs": [],
   "source": [
    "#TODO "
   ]
  },
  {
   "cell_type": "markdown",
   "id": "1aa2cfef",
   "metadata": {},
   "source": [
    "### 03 Repairs - Correct col names to match schema for each table"
   ]
  },
  {
   "cell_type": "code",
   "execution_count": null,
   "id": "c3862081",
   "metadata": {},
   "outputs": [],
   "source": [
    "#TODO "
   ]
  },
  {
   "cell_type": "markdown",
   "id": "04a7e353",
   "metadata": {},
   "source": [
    "### 04 Repairs - Correct datatypes to match schema"
   ]
  },
  {
   "cell_type": "code",
   "execution_count": null,
   "id": "cd71e59e",
   "metadata": {},
   "outputs": [],
   "source": [
    "#TODO "
   ]
  },
  {
   "cell_type": "markdown",
   "id": "44d9a968",
   "metadata": {},
   "source": [
    "### 05 Repairs - Correct datatypes to match schema"
   ]
  },
  {
   "cell_type": "code",
   "execution_count": null,
   "id": "3b250714",
   "metadata": {},
   "outputs": [],
   "source": [
    "#TODO "
   ]
  },
  {
   "cell_type": "markdown",
   "id": "8d9556d8",
   "metadata": {},
   "source": [
    "# Parts Data\n",
    "\n",
    "<hr style=\"border:1px solid gray\"> </hr>\n",
    "\n",
    "**Our Schema_______________Provided Data**\n",
    "\n",
    "```\n",
    "Part        -----   parts\n",
    "```\n",
    "\n",
    "### 01 Parts - Review provided data (content, types, cols)"
   ]
  },
  {
   "cell_type": "code",
   "execution_count": null,
   "id": "7a8fda69",
   "metadata": {
    "scrolled": true
   },
   "outputs": [],
   "source": [
    "parts= pd.read_csv(parts_path, sep = \"\\t\")\n",
    "parts.dtypes "
   ]
  },
  {
   "cell_type": "markdown",
   "id": "84698764",
   "metadata": {},
   "source": [
    "### 02 Parts - Breakdown input data to match schema"
   ]
  },
  {
   "cell_type": "code",
   "execution_count": null,
   "id": "33349f70",
   "metadata": {},
   "outputs": [],
   "source": [
    "#TODO "
   ]
  },
  {
   "cell_type": "markdown",
   "id": "863b29e6",
   "metadata": {},
   "source": [
    "### 03 Parts - Correct col names to match schema for each table"
   ]
  },
  {
   "cell_type": "code",
   "execution_count": null,
   "id": "49439c0d",
   "metadata": {},
   "outputs": [],
   "source": [
    "#TODO "
   ]
  },
  {
   "cell_type": "markdown",
   "id": "93045e73",
   "metadata": {},
   "source": [
    "### 04 Parts - Correct datatypes to match schema"
   ]
  },
  {
   "cell_type": "code",
   "execution_count": null,
   "id": "aa6b46b0",
   "metadata": {},
   "outputs": [],
   "source": [
    "#TODO "
   ]
  },
  {
   "cell_type": "markdown",
   "id": "fc338843",
   "metadata": {},
   "source": [
    "### 05 Parts - Correct datatypes to match schema"
   ]
  },
  {
   "cell_type": "code",
   "execution_count": null,
   "id": "8d905a1e",
   "metadata": {},
   "outputs": [],
   "source": [
    "#TODO "
   ]
  },
  {
   "cell_type": "markdown",
   "id": "da721ed6",
   "metadata": {},
   "source": [
    "# Person Data\n",
    "\n",
    "<hr style=\"border:1px solid gray\"> </hr>\n",
    "\n",
    "**Our Schema_______________Provided Data**\n",
    "\n",
    "```\n",
    "Customer      -----   business/persons\n",
    "Person        -----   person\n",
    "```\n",
    "\n",
    "### 01 Person - Review provided data (content, types, cols)"
   ]
  },
  {
   "cell_type": "code",
   "execution_count": null,
   "id": "8949d092",
   "metadata": {
    "scrolled": true
   },
   "outputs": [],
   "source": [
    "person= pd.read_csv(person_path, sep = \"\\t\")\n",
    "person.dtypes"
   ]
  },
  {
   "cell_type": "markdown",
   "id": "dd678a30",
   "metadata": {},
   "source": [
    "### 02 Person - Breakdown input data to match schema"
   ]
  },
  {
   "cell_type": "code",
   "execution_count": null,
   "id": "2b2a661c",
   "metadata": {},
   "outputs": [],
   "source": [
    "#TODO "
   ]
  },
  {
   "cell_type": "markdown",
   "id": "1fa1a744",
   "metadata": {},
   "source": [
    "### 03 Person - Correct col names to match schema for each table"
   ]
  },
  {
   "cell_type": "code",
   "execution_count": null,
   "id": "cf885b61",
   "metadata": {},
   "outputs": [],
   "source": [
    "#TODO "
   ]
  },
  {
   "cell_type": "markdown",
   "id": "d20e230a",
   "metadata": {},
   "source": [
    "### 04 Person - Correct datatypes to match schema"
   ]
  },
  {
   "cell_type": "code",
   "execution_count": null,
   "id": "b08c0087",
   "metadata": {},
   "outputs": [],
   "source": [
    "#TODO "
   ]
  },
  {
   "cell_type": "markdown",
   "id": "558270b6",
   "metadata": {},
   "source": [
    "### 05 Person - Correct datatypes to match schema"
   ]
  },
  {
   "cell_type": "code",
   "execution_count": null,
   "id": "62ac1c1c",
   "metadata": {},
   "outputs": [],
   "source": [
    "#TODO "
   ]
  },
  {
   "cell_type": "markdown",
   "id": "5289e322",
   "metadata": {},
   "source": [
    "# Business Data\n",
    "\n",
    "<hr style=\"border:1px solid gray\"> </hr>\n",
    "\n",
    "**Our Schema_______________Provided Data**\n",
    "\n",
    "```\n",
    "Customer      -----   business/persons\n",
    "Business        -----   business\n",
    "```\n",
    "\n",
    "### 01 Business - Review provided data (content, types, cols)"
   ]
  },
  {
   "cell_type": "code",
   "execution_count": null,
   "id": "2bc856b7",
   "metadata": {
    "scrolled": true
   },
   "outputs": [],
   "source": [
    "business= pd.read_csv(business_path, sep = \"\\t\")\n",
    "business.dtypes"
   ]
  },
  {
   "cell_type": "markdown",
   "id": "c1c777f3",
   "metadata": {},
   "source": [
    "### 02 Business - Breakdown input data to match schema"
   ]
  },
  {
   "cell_type": "code",
   "execution_count": null,
   "id": "ac8c154a",
   "metadata": {},
   "outputs": [],
   "source": [
    "#TODO "
   ]
  },
  {
   "cell_type": "markdown",
   "id": "de55b76f",
   "metadata": {},
   "source": [
    "### 03 Business - Correct col names to match schema for each table"
   ]
  },
  {
   "cell_type": "code",
   "execution_count": null,
   "id": "e69fbc3f",
   "metadata": {},
   "outputs": [],
   "source": [
    "#TODO "
   ]
  },
  {
   "cell_type": "markdown",
   "id": "7c36787d",
   "metadata": {},
   "source": [
    "### 04 Business - Correct datatypes to match schema"
   ]
  },
  {
   "cell_type": "code",
   "execution_count": null,
   "id": "c1873d22",
   "metadata": {},
   "outputs": [],
   "source": [
    "#TODO "
   ]
  },
  {
   "cell_type": "markdown",
   "id": "0116f039",
   "metadata": {},
   "source": [
    "### 05 Business - Correct datatypes to match schema"
   ]
  },
  {
   "cell_type": "code",
   "execution_count": null,
   "id": "0ecf457d",
   "metadata": {},
   "outputs": [],
   "source": [
    "#TODO "
   ]
  },
  {
   "cell_type": "code",
   "execution_count": null,
   "id": "ba5912c7",
   "metadata": {},
   "outputs": [],
   "source": []
  }
 ],
 "metadata": {
  "kernelspec": {
   "display_name": "Python 3 (ipykernel)",
   "language": "python",
   "name": "python3"
  },
  "language_info": {
   "codemirror_mode": {
    "name": "ipython",
    "version": 3
   },
   "file_extension": ".py",
   "mimetype": "text/x-python",
   "name": "python",
   "nbconvert_exporter": "python",
   "pygments_lexer": "ipython3",
   "version": "3.9.7"
  }
 },
 "nbformat": 4,
 "nbformat_minor": 5
}
